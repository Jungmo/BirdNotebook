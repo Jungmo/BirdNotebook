{
 "cells": [
  {
   "cell_type": "code",
   "execution_count": null,
   "metadata": {
    "collapsed": true,
    "deletable": true,
    "editable": true
   },
   "outputs": [],
   "source": [
    "import cv2\n",
    "import os\n",
    "\n",
    "ROOT = \"/home/jungmo/Documents/autonomous/caffe/bird_image/test\"\n",
    "DIRECTORY = {\"bluebird\":0, \"swallow\":0, \"egg\":1, \"empty\":2, \"child\":3}\n",
    "\n",
    "testimage = os.path.join(ROOT, child, \"1702_3339.bmp\")\n",
    "\n",
    "image = cv2.imread(testimage, 0)\n",
    "\n"
   ]
  }
 ],
 "metadata": {
  "kernelspec": {
   "display_name": "Python 2",
   "language": "python",
   "name": "python2"
  },
  "language_info": {
   "codemirror_mode": {
    "name": "ipython",
    "version": 2
   },
   "file_extension": ".py",
   "mimetype": "text/x-python",
   "name": "python",
   "nbconvert_exporter": "python",
   "pygments_lexer": "ipython2",
   "version": "2.7.12"
  }
 },
 "nbformat": 4,
 "nbformat_minor": 2
}
