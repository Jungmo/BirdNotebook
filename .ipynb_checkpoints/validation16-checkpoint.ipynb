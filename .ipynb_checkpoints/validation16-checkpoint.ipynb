{
 "cells": [
  {
   "cell_type": "code",
   "execution_count": 2,
   "metadata": {
    "collapsed": false,
    "deletable": true,
    "editable": true
   },
   "outputs": [],
   "source": [
    "import numpy as np\n",
    "import os\n",
    "import sys\n",
    "import argparse\n",
    "import glob\n",
    "import time\n",
    "sys.path.append(\"/home/jungmo/apps/caffe/python\") # caffe path\n",
    "\n",
    "import caffe\n",
    "from shutil import copyfile\n",
    "\n",
    "#GPUID = 1\n",
    "TRAIN = \"/home/jungmo/Documents/autonomous/caffe/bird_image/train/train.txt\"\n",
    "TEST = \"/home/jungmo/Documents/autonomous/caffe/bird_image/test/test_16_200.txt\"\n",
    "BIRD_ROOT = \"/home/jungmo/Documents/autonomous/caffe/\"\n",
    "\n",
    "BINARYPROTO_PATH = os.path.join(BIRD_ROOT, \"db/mean.binaryproto\")\n",
    "NPY_PATH = os.path.join(BIRD_ROOT, \"db/mean.npy\")\n",
    "CAFFE_BIN = \"/home/jungmo/apps/caffe/build/tools/\"\n",
    "network = 'googLeNet'\n",
    "IMG_SIZE = 224\n",
    "\n",
    "problem = open('egg_classified_as_bird.txt', \"w\")\n",
    "def binaryproto_to_npy():\n",
    "    blob = caffe.proto.caffe_pb2.BlobProto()\n",
    "    data = open( BINARYPROTO_PATH , 'rb' ).read()\n",
    "    blob.ParseFromString(data)\n",
    "    arr = np.array( caffe.io.blobproto_to_array(blob) )\n",
    "    out = arr[0]\n",
    "    np.save( NPY_PATH, out )\n",
    "\n",
    "def evaluate_model():\n",
    "        input_file = os.path.join(TEST)\n",
    "        output_file = os.path.join(BIRD_ROOT, \"db/output.npy\")\n",
    "        model_def = os.path.join(BIRD_ROOT, \"model/\"+network+\"/deploy.prototxt\")\n",
    "        pretrained_model = os.path.join(BIRD_ROOT, \"color16/googlenet_iter_100000.caffemodel\")\n",
    "        gpu = True\n",
    "        images_dim='224,224'\n",
    "        mean_file = NPY_PATH\n",
    "        ext='bmp'\n",
    "        channel_swap='2,1,0'\n",
    "        raw_scale = 255.0\n",
    "        center_only=True\n",
    "        input_scale = None\n",
    "        image_dims = [int(s) for s in images_dim.split(',')]\n",
    "\n",
    "        mean, channel_swap = None, None\n",
    "        if mean_file:\n",
    "            mean = np.load(mean_file)\n",
    "        if channel_swap:\n",
    "            channel_swap=[int(s) for s in args.channel_swap.split(',')]\n",
    "        caffe.set_mode_gpu()\n",
    "        #caffe.set_device(GPUID)\n",
    "        # Make classifier.\n",
    "        classifier = caffe.Classifier(model_def, pretrained_model,\n",
    "                image_dims=image_dims, mean=mean,\n",
    "                input_scale=input_scale, raw_scale=raw_scale,\n",
    "                channel_swap=channel_swap)\n",
    "\n",
    "        # Load numpy array (.npy), directory glob (*.jpg), or image file.\n",
    "        imgs_list = tuple(open(input_file,'r'))\n",
    "        print(\"Loading file: %s\" % input_file)\n",
    "        inputs =[caffe.io.load_image(im_f)\n",
    "                     for im_f in glob.glob(input_file + '/*.' + ext)]\n",
    "\n",
    "        print(\"Classifying %d inputs.\" % len(imgs_list))\n",
    "\n",
    "        BATCH_SIZE = 100\n",
    "\n",
    "        # Classify.\n",
    "        confusion_matrix = np.zeros((4,4),dtype=np.int32)\n",
    "        accuracy = 0.0\n",
    "        start = time.time()\n",
    "        for i in range(0, len(imgs_list), BATCH_SIZE):\n",
    "            if i > 0 and i % (BATCH_SIZE * 25) == 0:\n",
    "                print(\"Finished %d imgs.\" % (i))\n",
    "                cur_accuracy = accuracy / i * 100\n",
    "                print(\"Accuracy: %.2f \" % cur_accuracy)\n",
    "                print(\"Confusion Matrix:\")\n",
    "                print confusion_matrix\n",
    "            imgs = [imgs_list[i + j].split(' ')[0] for j in range(min(BATCH_SIZE,len(imgs_list)-i))]\n",
    "            gts = [int(imgs_list[i + j].split(' ')[1]) for j in range(min(BATCH_SIZE,len(imgs_list)-i))]\n",
    "            inputs = [caffe.io.load_image(path) for path in imgs]\n",
    "            predictions = classifier.predict(inputs, not center_only)\n",
    "            for j in range(len(imgs)):\n",
    "                probs = predictions[j]\n",
    "                pred = np.argmax(probs)\n",
    "                confusion_matrix[gts[j]][pred] += 1\n",
    "                if pred == gts[j]:\n",
    "                    accuracy += 1.0\n",
    "\n",
    "        accuracy = accuracy / len(imgs_list) * 100\n",
    "\n",
    "        print(\"Done in %.2f s.\" % (time.time() - start))\n",
    "        # Save\n",
    "        print(\"Accuracy: %.2f \" % accuracy)\n",
    "        print(\"Confusion Matrix:\")\n",
    "        print confusion_matrix"
   ]
  },
  {
   "cell_type": "code",
   "execution_count": 3,
   "metadata": {
    "collapsed": false,
    "deletable": true,
    "editable": true
   },
   "outputs": [
    {
     "name": "stdout",
     "output_type": "stream",
     "text": [
      "Evaluate model\n"
     ]
    },
    {
     "ename": "RuntimeError",
     "evalue": "Could not open file /home/jungmo/Documents/autonomous/caffe/color16/googlenet_iter_100000.caffemodel",
     "output_type": "error",
     "traceback": [
      "\u001b[0;31m---------------------------------------------------------------------------\u001b[0m",
      "\u001b[0;31mRuntimeError\u001b[0m                              Traceback (most recent call last)",
      "\u001b[0;32m<ipython-input-3-ee4c268d72d9>\u001b[0m in \u001b[0;36m<module>\u001b[0;34m()\u001b[0m\n\u001b[1;32m     19\u001b[0m \u001b[0;32mprint\u001b[0m \u001b[0;34m\"Evaluate model\"\u001b[0m\u001b[0;34m\u001b[0m\u001b[0m\n\u001b[1;32m     20\u001b[0m \u001b[0mTEST\u001b[0m \u001b[0;34m=\u001b[0m \u001b[0;34m\"/home/jungmo/Documents/autonomous/caffe/bird_image/test/test_16_200.txt\"\u001b[0m\u001b[0;34m\u001b[0m\u001b[0m\n\u001b[0;32m---> 21\u001b[0;31m \u001b[0mevaluate_model\u001b[0m\u001b[0;34m(\u001b[0m\u001b[0;34m)\u001b[0m\u001b[0;34m\u001b[0m\u001b[0m\n\u001b[0m",
      "\u001b[0;32m<ipython-input-2-5d1f2ba4eacc>\u001b[0m in \u001b[0;36mevaluate_model\u001b[0;34m()\u001b[0m\n\u001b[1;32m     56\u001b[0m                 \u001b[0mimage_dims\u001b[0m\u001b[0;34m=\u001b[0m\u001b[0mimage_dims\u001b[0m\u001b[0;34m,\u001b[0m \u001b[0mmean\u001b[0m\u001b[0;34m=\u001b[0m\u001b[0mmean\u001b[0m\u001b[0;34m,\u001b[0m\u001b[0;34m\u001b[0m\u001b[0m\n\u001b[1;32m     57\u001b[0m                 \u001b[0minput_scale\u001b[0m\u001b[0;34m=\u001b[0m\u001b[0minput_scale\u001b[0m\u001b[0;34m,\u001b[0m \u001b[0mraw_scale\u001b[0m\u001b[0;34m=\u001b[0m\u001b[0mraw_scale\u001b[0m\u001b[0;34m,\u001b[0m\u001b[0;34m\u001b[0m\u001b[0m\n\u001b[0;32m---> 58\u001b[0;31m                 channel_swap=channel_swap)\n\u001b[0m\u001b[1;32m     59\u001b[0m \u001b[0;34m\u001b[0m\u001b[0m\n\u001b[1;32m     60\u001b[0m         \u001b[0;31m# Load numpy array (.npy), directory glob (*.jpg), or image file.\u001b[0m\u001b[0;34m\u001b[0m\u001b[0;34m\u001b[0m\u001b[0m\n",
      "\u001b[0;32m/home/jungmo/apps/caffe/python/caffe/classifier.pyc\u001b[0m in \u001b[0;36m__init__\u001b[0;34m(self, model_file, pretrained_file, image_dims, mean, input_scale, raw_scale, channel_swap)\u001b[0m\n\u001b[1;32m     24\u001b[0m                  \u001b[0mmean\u001b[0m\u001b[0;34m=\u001b[0m\u001b[0mNone\u001b[0m\u001b[0;34m,\u001b[0m \u001b[0minput_scale\u001b[0m\u001b[0;34m=\u001b[0m\u001b[0mNone\u001b[0m\u001b[0;34m,\u001b[0m \u001b[0mraw_scale\u001b[0m\u001b[0;34m=\u001b[0m\u001b[0mNone\u001b[0m\u001b[0;34m,\u001b[0m\u001b[0;34m\u001b[0m\u001b[0m\n\u001b[1;32m     25\u001b[0m                  channel_swap=None):\n\u001b[0;32m---> 26\u001b[0;31m         \u001b[0mcaffe\u001b[0m\u001b[0;34m.\u001b[0m\u001b[0mNet\u001b[0m\u001b[0;34m.\u001b[0m\u001b[0m__init__\u001b[0m\u001b[0;34m(\u001b[0m\u001b[0mself\u001b[0m\u001b[0;34m,\u001b[0m \u001b[0mmodel_file\u001b[0m\u001b[0;34m,\u001b[0m \u001b[0mpretrained_file\u001b[0m\u001b[0;34m,\u001b[0m \u001b[0mcaffe\u001b[0m\u001b[0;34m.\u001b[0m\u001b[0mTEST\u001b[0m\u001b[0;34m)\u001b[0m\u001b[0;34m\u001b[0m\u001b[0m\n\u001b[0m\u001b[1;32m     27\u001b[0m \u001b[0;34m\u001b[0m\u001b[0m\n\u001b[1;32m     28\u001b[0m         \u001b[0;31m# configure pre-processing\u001b[0m\u001b[0;34m\u001b[0m\u001b[0;34m\u001b[0m\u001b[0m\n",
      "\u001b[0;31mRuntimeError\u001b[0m: Could not open file /home/jungmo/Documents/autonomous/caffe/color16/googlenet_iter_100000.caffemodel"
     ]
    }
   ],
   "source": [
    "\n",
    "'''    \n",
    "print \"Make DB : Training set\"\n",
    "os.system(os.path.join(CAFFE_BIN,\"convert_imageset.bin\")+\" -backend=\\\"lmdb\\\" -shuffle=true -resize_height \"+str(IMG_SIZE)+\" -resize_width \"+str(IMG_SIZE)+ \" / \" + TRAIN + \" \" + BIRD_ROOT + \"db/train_imageData_lmDB\")\n",
    "\n",
    "print \"Make DB : Test set\"\n",
    "os.system(os.path.join(CAFFE_BIN,\"convert_imageset.bin\")+\" -backend=\\\"lmdb\\\" -shuffle=true -resize_height \"+str(IMG_SIZE)+\" -resize_width \"+str(IMG_SIZE) + \" / \" + TEST + \" \" + BIRD_ROOT + \"db/val_imageData_lmDB\")\n",
    "\n",
    "print \"Make image mean file\"\n",
    "os.system(os.path.join(CAFFE_BIN,\"compute_image_mean.bin\")+\n",
    "               \" -backend=lmdb \"+ BIRD_ROOT + \"db/train_imageData_lmDB \" + BIRD_ROOT+ \"db/mean.binaryproto\")\n",
    "print \"Image mean file .binaryproto to .npy\"\n",
    "binaryproto_to_npy()   \n",
    "\n",
    "print \"Training model\"\n",
    "os.system(os.path.join(CAFFE_BIN,\"caffe.bin\")+\" train \"\n",
    "               \"-solver=\"+BIRD_ROOT+\"model/\"+network+\"/solver.prototxt \"+\" -weights=\"+BIRD_ROOT+\"model/\"+network+\"/bvlc_googlenet.caffemodel \"+ \"-gpu all\")\n",
    "'''\n",
    "print \"Evaluate model\"\n",
    "TEST = \"/home/jungmo/Documents/autonomous/caffe/bird_image/test/test_16_200.txt\"\n",
    "evaluate_model()\n"
   ]
  },
  {
   "cell_type": "code",
   "execution_count": null,
   "metadata": {
    "collapsed": false,
    "deletable": true,
    "editable": true
   },
   "outputs": [],
   "source": [
    "TEST = \"/home/jungmo/Documents/autonomous/caffe/bird_image/test/test_16_150.txt\"\n",
    "evaluate_model()"
   ]
  },
  {
   "cell_type": "code",
   "execution_count": null,
   "metadata": {
    "collapsed": false,
    "deletable": true,
    "editable": true
   },
   "outputs": [],
   "source": [
    "TEST = \"/home/jungmo/Documents/autonomous/caffe/bird_image/test/test_16_140.txt\"\n",
    "evaluate_model()"
   ]
  },
  {
   "cell_type": "code",
   "execution_count": 4,
   "metadata": {
    "collapsed": false,
    "deletable": true,
    "editable": true
   },
   "outputs": [
    {
     "ename": "RuntimeError",
     "evalue": "Could not open file /home/jungmo/Documents/autonomous/caffe/color16/googlenet_iter_100000.caffemodel",
     "output_type": "error",
     "traceback": [
      "\u001b[0;31m---------------------------------------------------------------------------\u001b[0m",
      "\u001b[0;31mRuntimeError\u001b[0m                              Traceback (most recent call last)",
      "\u001b[0;32m<ipython-input-4-0f9b471ae241>\u001b[0m in \u001b[0;36m<module>\u001b[0;34m()\u001b[0m\n\u001b[1;32m      1\u001b[0m \u001b[0mTEST\u001b[0m \u001b[0;34m=\u001b[0m \u001b[0;34m\"/home/jungmo/Documents/autonomous/caffe/bird_image/test/test_16_130.txt\"\u001b[0m\u001b[0;34m\u001b[0m\u001b[0m\n\u001b[0;32m----> 2\u001b[0;31m \u001b[0mevaluate_model\u001b[0m\u001b[0;34m(\u001b[0m\u001b[0;34m)\u001b[0m\u001b[0;34m\u001b[0m\u001b[0m\n\u001b[0m",
      "\u001b[0;32m<ipython-input-2-5d1f2ba4eacc>\u001b[0m in \u001b[0;36mevaluate_model\u001b[0;34m()\u001b[0m\n\u001b[1;32m     56\u001b[0m                 \u001b[0mimage_dims\u001b[0m\u001b[0;34m=\u001b[0m\u001b[0mimage_dims\u001b[0m\u001b[0;34m,\u001b[0m \u001b[0mmean\u001b[0m\u001b[0;34m=\u001b[0m\u001b[0mmean\u001b[0m\u001b[0;34m,\u001b[0m\u001b[0;34m\u001b[0m\u001b[0m\n\u001b[1;32m     57\u001b[0m                 \u001b[0minput_scale\u001b[0m\u001b[0;34m=\u001b[0m\u001b[0minput_scale\u001b[0m\u001b[0;34m,\u001b[0m \u001b[0mraw_scale\u001b[0m\u001b[0;34m=\u001b[0m\u001b[0mraw_scale\u001b[0m\u001b[0;34m,\u001b[0m\u001b[0;34m\u001b[0m\u001b[0m\n\u001b[0;32m---> 58\u001b[0;31m                 channel_swap=channel_swap)\n\u001b[0m\u001b[1;32m     59\u001b[0m \u001b[0;34m\u001b[0m\u001b[0m\n\u001b[1;32m     60\u001b[0m         \u001b[0;31m# Load numpy array (.npy), directory glob (*.jpg), or image file.\u001b[0m\u001b[0;34m\u001b[0m\u001b[0;34m\u001b[0m\u001b[0m\n",
      "\u001b[0;32m/home/jungmo/apps/caffe/python/caffe/classifier.pyc\u001b[0m in \u001b[0;36m__init__\u001b[0;34m(self, model_file, pretrained_file, image_dims, mean, input_scale, raw_scale, channel_swap)\u001b[0m\n\u001b[1;32m     24\u001b[0m                  \u001b[0mmean\u001b[0m\u001b[0;34m=\u001b[0m\u001b[0mNone\u001b[0m\u001b[0;34m,\u001b[0m \u001b[0minput_scale\u001b[0m\u001b[0;34m=\u001b[0m\u001b[0mNone\u001b[0m\u001b[0;34m,\u001b[0m \u001b[0mraw_scale\u001b[0m\u001b[0;34m=\u001b[0m\u001b[0mNone\u001b[0m\u001b[0;34m,\u001b[0m\u001b[0;34m\u001b[0m\u001b[0m\n\u001b[1;32m     25\u001b[0m                  channel_swap=None):\n\u001b[0;32m---> 26\u001b[0;31m         \u001b[0mcaffe\u001b[0m\u001b[0;34m.\u001b[0m\u001b[0mNet\u001b[0m\u001b[0;34m.\u001b[0m\u001b[0m__init__\u001b[0m\u001b[0;34m(\u001b[0m\u001b[0mself\u001b[0m\u001b[0;34m,\u001b[0m \u001b[0mmodel_file\u001b[0m\u001b[0;34m,\u001b[0m \u001b[0mpretrained_file\u001b[0m\u001b[0;34m,\u001b[0m \u001b[0mcaffe\u001b[0m\u001b[0;34m.\u001b[0m\u001b[0mTEST\u001b[0m\u001b[0;34m)\u001b[0m\u001b[0;34m\u001b[0m\u001b[0m\n\u001b[0m\u001b[1;32m     27\u001b[0m \u001b[0;34m\u001b[0m\u001b[0m\n\u001b[1;32m     28\u001b[0m         \u001b[0;31m# configure pre-processing\u001b[0m\u001b[0;34m\u001b[0m\u001b[0;34m\u001b[0m\u001b[0m\n",
      "\u001b[0;31mRuntimeError\u001b[0m: Could not open file /home/jungmo/Documents/autonomous/caffe/color16/googlenet_iter_100000.caffemodel"
     ]
    }
   ],
   "source": [
    "TEST = \"/home/jungmo/Documents/autonomous/caffe/bird_image/test/test_16_130.txt\"\n",
    "evaluate_model()"
   ]
  },
  {
   "cell_type": "code",
   "execution_count": 6,
   "metadata": {
    "collapsed": false,
    "deletable": true,
    "editable": true
   },
   "outputs": [
    {
     "name": "stdout",
     "output_type": "stream",
     "text": [
      "Loading file: /home/jungmo/Documents/autonomous/caffe/bird_image/test/test_8_120.txt\n",
      "Classifying 24163 inputs.\n",
      "Finished 2500 imgs.\n",
      "Accuracy: 97.72 \n",
      "Confusion Matrix:\n",
      "[[2443    6   26   25]\n",
      " [   0    0    0    0]\n",
      " [   0    0    0    0]\n",
      " [   0    0    0    0]]\n",
      "Finished 5000 imgs.\n",
      "Accuracy: 97.90 \n",
      "Confusion Matrix:\n",
      "[[4895    7   48   50]\n",
      " [   0    0    0    0]\n",
      " [   0    0    0    0]\n",
      " [   0    0    0    0]]\n",
      "Finished 7500 imgs.\n",
      "Accuracy: 96.32 \n",
      "Confusion Matrix:\n",
      "[[6604    9   62   63]\n",
      " [  59  620   75    8]\n",
      " [   0    0    0    0]\n",
      " [   0    0    0    0]]\n",
      "Finished 10000 imgs.\n",
      "Accuracy: 95.60 \n",
      "Confusion Matrix:\n",
      "[[8383   11   83   75]\n",
      " [ 112 1177  150    9]\n",
      " [   0    0    0    0]\n",
      " [   0    0    0    0]]\n",
      "Finished 12500 imgs.\n",
      "Accuracy: 96.15 \n",
      "Confusion Matrix:\n",
      "[[10799    12   109    88]\n",
      " [  112  1177   150     9]\n",
      " [    0     0    43     1]\n",
      " [    0     0     0     0]]\n",
      "Finished 15000 imgs.\n",
      "Accuracy: 95.60 \n",
      "Confusion Matrix:\n",
      "[[10799    12   109    88]\n",
      " [  112  1177   150     9]\n",
      " [   26     0  2364   154]\n",
      " [    0     0     0     0]]\n",
      "Finished 17500 imgs.\n",
      "Accuracy: 95.22 \n",
      "Confusion Matrix:\n",
      "[[10799    12   109    88]\n",
      " [  112  1177   150     9]\n",
      " [   56     2  4687   299]\n",
      " [    0     0     0     0]]\n",
      "Finished 20000 imgs.\n",
      "Accuracy: 94.98 \n",
      "Confusion Matrix:\n",
      "[[10799    12   109    88]\n",
      " [  112  1177   150     9]\n",
      " [   79     4  7020   441]\n",
      " [    0     0     0     0]]\n",
      "Finished 22500 imgs.\n",
      "Accuracy: 93.40 \n",
      "Confusion Matrix:\n",
      "[[10799    12   109    88]\n",
      " [  112  1177   150     9]\n",
      " [   97     5  8497   523]\n",
      " [  306     3    70   543]]\n",
      "Done in 357.03 s.\n",
      "Accuracy: 90.97 \n",
      "Confusion Matrix:\n",
      "[[10799    12   109    88]\n",
      " [  112  1177   150     9]\n",
      " [   97     5  8497   523]\n",
      " [  878     7   193  1507]]\n"
     ]
    }
   ],
   "source": [
    "TEST = \"/home/jungmo/Documents/autonomous/caffe/bird_image/test/test_16_120.txt\"\n",
    "evaluate_model()"
   ]
  },
  {
   "cell_type": "code",
   "execution_count": 7,
   "metadata": {
    "collapsed": false,
    "deletable": true,
    "editable": true
   },
   "outputs": [
    {
     "name": "stdout",
     "output_type": "stream",
     "text": [
      "Loading file: /home/jungmo/Documents/autonomous/caffe/bird_image/test/test_8_110.txt\n",
      "Classifying 24163 inputs.\n",
      "Finished 2500 imgs.\n",
      "Accuracy: 98.40 \n",
      "Confusion Matrix:\n",
      "[[2460    3   17   20]\n",
      " [   0    0    0    0]\n",
      " [   0    0    0    0]\n",
      " [   0    0    0    0]]\n",
      "Finished 5000 imgs.\n",
      "Accuracy: 98.18 \n",
      "Confusion Matrix:\n",
      "[[4909    4   42   45]\n",
      " [   0    0    0    0]\n",
      " [   0    0    0    0]\n",
      " [   0    0    0    0]]\n",
      "Finished 7500 imgs.\n",
      "Accuracy: 96.36 \n",
      "Confusion Matrix:\n",
      "[[6626    6   52   54]\n",
      " [  75  601   83    3]\n",
      " [   0    0    0    0]\n",
      " [   0    0    0    0]]\n",
      "Finished 10000 imgs.\n",
      "Accuracy: 95.61 \n",
      "Confusion Matrix:\n",
      "[[8400    8   80   64]\n",
      " [ 129 1161  152    6]\n",
      " [   0    0    0    0]\n",
      " [   0    0    0    0]]\n",
      "Finished 12500 imgs.\n",
      "Accuracy: 96.17 \n",
      "Confusion Matrix:\n",
      "[[10818     8   103    79]\n",
      " [  129  1161   152     6]\n",
      " [    1     0    42     1]\n",
      " [    0     0     0     0]]\n",
      "Finished 15000 imgs.\n",
      "Accuracy: 95.32 \n",
      "Confusion Matrix:\n",
      "[[10818     8   103    79]\n",
      " [  129  1161   152     6]\n",
      " [   41     2  2319   182]\n",
      " [    0     0     0     0]]\n",
      "Finished 17500 imgs.\n",
      "Accuracy: 94.73 \n",
      "Confusion Matrix:\n",
      "[[10818     8   103    79]\n",
      " [  129  1161   152     6]\n",
      " [   70     2  4598   374]\n",
      " [    0     0     0     0]]\n",
      "Finished 20000 imgs.\n",
      "Accuracy: 94.38 \n",
      "Confusion Matrix:\n",
      "[[10818     8   103    79]\n",
      " [  129  1161   152     6]\n",
      " [  103     3  6896   542]\n",
      " [    0     0     0     0]]\n",
      "Finished 22500 imgs.\n",
      "Accuracy: 92.45 \n",
      "Confusion Matrix:\n",
      "[[10818     8   103    79]\n",
      " [  129  1161   152     6]\n",
      " [  124     4  8356   638]\n",
      " [  392     3    61   466]]\n",
      "Done in 352.11 s.\n",
      "Accuracy: 89.67 \n",
      "Confusion Matrix:\n",
      "[[10818     8   103    79]\n",
      " [  129  1161   152     6]\n",
      " [  124     4  8356   638]\n",
      " [ 1093     3   158  1331]]\n"
     ]
    }
   ],
   "source": [
    "TEST = \"/home/jungmo/Documents/autonomous/caffe/bird_image/test/test_16_110.txt\"\n",
    "evaluate_model()"
   ]
  },
  {
   "cell_type": "code",
   "execution_count": 1,
   "metadata": {
    "collapsed": false,
    "deletable": true,
    "editable": true
   },
   "outputs": [
    {
     "ename": "NameError",
     "evalue": "name 'evaluate_model' is not defined",
     "output_type": "error",
     "traceback": [
      "\u001b[0;31m---------------------------------------------------------------------------\u001b[0m",
      "\u001b[0;31mNameError\u001b[0m                                 Traceback (most recent call last)",
      "\u001b[0;32m<ipython-input-1-c1d6bdde6dc7>\u001b[0m in \u001b[0;36m<module>\u001b[0;34m()\u001b[0m\n\u001b[1;32m      1\u001b[0m \u001b[0mTEST\u001b[0m \u001b[0;34m=\u001b[0m \u001b[0;34m\"/home/jungmo/Documents/autonomous/caffe/bird_image/test/test_16_100.txt\"\u001b[0m\u001b[0;34m\u001b[0m\u001b[0m\n\u001b[0;32m----> 2\u001b[0;31m \u001b[0mevaluate_model\u001b[0m\u001b[0;34m(\u001b[0m\u001b[0;34m)\u001b[0m\u001b[0;34m\u001b[0m\u001b[0m\n\u001b[0m",
      "\u001b[0;31mNameError\u001b[0m: name 'evaluate_model' is not defined"
     ]
    }
   ],
   "source": [
    "TEST = \"/home/jungmo/Documents/autonomous/caffe/bird_image/test/test_16_100.txt\"\n",
    "evaluate_model()"
   ]
  },
  {
   "cell_type": "code",
   "execution_count": null,
   "metadata": {
    "collapsed": true,
    "deletable": true,
    "editable": true
   },
   "outputs": [],
   "source": []
  }
 ],
 "metadata": {
  "kernelspec": {
   "display_name": "Python 2",
   "language": "python",
   "name": "python2"
  },
  "language_info": {
   "codemirror_mode": {
    "name": "ipython",
    "version": 2
   },
   "file_extension": ".py",
   "mimetype": "text/x-python",
   "name": "python",
   "nbconvert_exporter": "python",
   "pygments_lexer": "ipython2",
   "version": "2.7.12"
  }
 },
 "nbformat": 4,
 "nbformat_minor": 0
}
