{
 "cells": [
  {
   "cell_type": "code",
   "execution_count": 4,
   "metadata": {
    "collapsed": true,
    "deletable": true,
    "editable": true
   },
   "outputs": [],
   "source": [
    "import matplotlib.pyplot as plt\n",
    "import csv"
   ]
  },
  {
   "cell_type": "code",
   "execution_count": 6,
   "metadata": {
    "collapsed": false,
    "deletable": true,
    "editable": true
   },
   "outputs": [
    {
     "data": {
      "text/plain": [
       "<matplotlib.figure.Figure at 0x7fcad415ac50>"
      ]
     },
     "metadata": {},
     "output_type": "display_data"
    },
    {
     "data": {
      "image/png": "[encoded data removed]",
      "text/plain": [
       "<matplotlib.figure.Figure at 0x7fcad4060c90>"
      ]
     },
     "metadata": {},
     "output_type": "display_data"
    }
   ],
   "source": [
    "energy = open(\"./send/energy_usage.csv\", \"r\")\n",
    "\n",
    "reader = csv.reader(energy)\n",
    "\n",
    "time = []\n",
    "energy  = []\n",
    "diff = []\n",
    "for i in reader:\n",
    "    try:\n",
    "        time.append(float(i[0]))\n",
    "        energy.append(float(i[1]))\n",
    "    except ValueError:\n",
    "        pass\n",
    "                      \n",
    "for i in range(1, len(energy)-1):\n",
    "    diff.append(energy[i+1]-energy[i])\n",
    "'''\n",
    "maxdiff = max(diff)\n",
    "maxdiffidx = diff.index(maxdiff) + 1\n",
    "\n",
    "time = time[maxdiffidx:len(time)]\n",
    "energy = energy[maxdiffidx:len(energy)]\n",
    "diff = diff[maxdiffidx:len(diff)]\n",
    "\n",
    "maxdiff = max(diff)\n",
    "maxdiffidx = diff.index(maxdiff)\n",
    "\n",
    "time = time[:maxdiffidx]\n",
    "energy = energy[:maxdiffidx]\n",
    "'''\n",
    "fig = plt.figure()\n",
    "\n",
    "'''\n",
    "plt.xlabel(time[0])\n",
    "plt.ylabel(energy[0])\n",
    "del time[0]\n",
    "del energy[0]\n",
    "'''\n",
    "#print maxdiffidx\n",
    "\n",
    "plt.plot(time, energy)\n",
    "\n",
    "plt.show()"
   ]
  },
  {
   "cell_type": "code",
   "execution_count": 7,
   "metadata": {
    "collapsed": false,
    "deletable": true,
    "editable": true
   },
   "outputs": [
    {
     "data": {
      "image/png": "[encoded data removed]",
      "text/plain": [
       "<matplotlib.figure.Figure at 0x7fcad41831d0>"
      ]
     },
     "metadata": {},
     "output_type": "display_data"
    }
   ],
   "source": [
    "energy = open(\"./send/RAW.csv\", \"r\")\n",
    "\n",
    "reader = csv.reader(energy)\n",
    "\n",
    "time = []\n",
    "energy  = []\n",
    "diff = []\n",
    "for i in reader:\n",
    "    try:\n",
    "        time.append(float(i[0]))\n",
    "        energy.append(float(i[1]))\n",
    "    except ValueError:\n",
    "        pass\n",
    "\n",
    "fig = plt.figure()\n",
    "\n",
    "'''\n",
    "plt.xlabel(time[0])\n",
    "plt.ylabel(energy[0])\n",
    "del time[0]\n",
    "del energy[0]\n",
    "'''\n",
    "\n",
    "plt.plot(time, energy)\n",
    "plt.show()"
   ]
  },
  {
   "cell_type": "code",
   "execution_count": null,
   "metadata": {
    "collapsed": true,
    "deletable": true,
    "editable": true
   },
   "outputs": [],
   "source": []
  },
  {
   "cell_type": "code",
   "execution_count": null,
   "metadata": {
    "collapsed": true,
    "deletable": true,
    "editable": true
   },
   "outputs": [],
   "source": []
  }
 ],
 "metadata": {
  "kernelspec": {
   "display_name": "Python 2",
   "language": "python",
   "name": "python2"
  },
  "language_info": {
   "codemirror_mode": {
    "name": "ipython",
    "version": 2
   },
   "file_extension": ".py",
   "mimetype": "text/x-python",
   "name": "python",
   "nbconvert_exporter": "python",
   "pygments_lexer": "ipython2",
   "version": "2.7.12"
  }
 },
 "nbformat": 4,
 "nbformat_minor": 2
}
