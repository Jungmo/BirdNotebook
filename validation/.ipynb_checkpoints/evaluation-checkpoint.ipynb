{
 "cells": [
  {
   "cell_type": "code",
   "execution_count": 93,
   "metadata": {
    "collapsed": false
   },
   "outputs": [
    {
     "name": "stdout",
     "output_type": "stream",
     "text": [
      "[['100' '100' '0.09375' '0.125' '0.15625' '0.25']\n",
      " ['110' '110' '0.1134375' '0.15125' '0.1890625' '0.3025']\n",
      " ['120' '120' '0.135' '0.18' '0.225' '0.36']\n",
      " ['130' '130' '0.1584375' '0.21125' '0.2640625' '0.4225']\n",
      " ['140' '140' '0.18375' '0.245' '0.30625' '0.49']\n",
      " ['150' '150' '0.2109375' '0.28125' '0.3515625' '0.5625']\n",
      " ['160' '160' '0.24' '0.32' '0.4' '0.64']\n",
      " ['170' '170' '0.2709375' '0.36125' '0.4515625' '0.7225']\n",
      " ['180' '180' '0.30375' '0.405' '0.50625' '0.81']\n",
      " ['190' '190' '0.3384375' '0.45125' '0.5640625' '0.9025']\n",
      " ['200' '200' '0.375' '0.5' '0.625' '1']]\n"
     ]
    }
   ],
   "source": [
    "import numpy as np\n",
    "import csv\n",
    "import matplotlib.pyplot as plt\n",
    "\n",
    "\n",
    "test_256_200 = np.load(\"test_256_200.npy\")\n",
    "test_256_150 = np.load(\"test_256_150.npy\")\n",
    "test_256_140 = np.load(\"test_256_140.npy\")\n",
    "test_256_130 = np.load(\"test_256_130.npy\")\n",
    "test_256_120 = np.load(\"test_256_120.npy\")\n",
    "test_256_110 = np.load(\"test_256_110.npy\")\n",
    "test_256_100 = np.load(\"test_256_100.npy\")\n",
    "test_32_200 = np.load(\"test_32_200.npy\")\n",
    "test_32_150 = np.load(\"test_32_150.npy\")\n",
    "test_32_140 = np.load(\"test_32_140.npy\")\n",
    "test_32_130 = np.load(\"test_32_130.npy\")\n",
    "test_32_120 = np.load(\"test_32_120.npy\")\n",
    "test_32_110 = np.load(\"test_32_110.npy\")\n",
    "test_32_100 = np.load(\"test_32_100.npy\")\n",
    "test_16_200 = np.load(\"test_16_200.npy\")\n",
    "test_16_150 = np.load(\"test_16_150.npy\")\n",
    "test_16_140 = np.load(\"test_16_140.npy\")\n",
    "test_16_130 = np.load(\"test_16_130.npy\")\n",
    "test_16_120 = np.load(\"test_16_120.npy\")\n",
    "test_16_110 = np.load(\"test_16_110.npy\")\n",
    "test_16_100 = np.load(\"test_16_100.npy\")\n",
    "test_8_200 = np.load(\"test_8_200.npy\")\n",
    "test_8_150 = np.load(\"test_8_150.npy\")\n",
    "test_8_140 = np.load(\"test_8_140.npy\")\n",
    "test_8_130 = np.load(\"test_8_130.npy\")\n",
    "test_8_120 = np.load(\"test_8_120.npy\")\n",
    "test_8_110 = np.load(\"test_8_110.npy\")\n",
    "test_8_100 = np.load(\"test_8_100.npy\")\n",
    "\n",
    "compression_ratio = []\n",
    "\n",
    "compression_ratio_file = open(\"com.csv\", \"r\")\n",
    "reader = csv.reader(compression_ratio_file, delimiter=',')\n",
    "for line in reader:\n",
    "    compression_ratio.append(line)\n",
    "    \n",
    "compression_ratio = np.asarray(compression_ratio[1:])\n",
    "print compression_ratio\n",
    "\n"
   ]
  },
  {
   "cell_type": "code",
   "execution_count": 111,
   "metadata": {
    "collapsed": false
   },
   "outputs": [],
   "source": [
    "def accuracy(test,color,size):\n",
    "    sizeidx = size/10 - 10\n",
    "    coloridx = -1\n",
    "    if color == 256:\n",
    "        coloridx = 5\n",
    "    elif color == 32:\n",
    "        coloridx = 4\n",
    "    elif color == 16:\n",
    "        coloridx = 3\n",
    "    elif color == 8:\n",
    "        coloridx = 2\n",
    "\n",
    "    compression = compression_ratio[sizeidx][coloridx]\n",
    "    print compression\n",
    "    bird_GT = np.sum(test[0])\n",
    "    empty_GT = np.sum(test[1])\n",
    "    egg_GT = np.sum(test[2])\n",
    "    child_GT = np.sum(test[3])\n",
    "    \n",
    "    bird_result = test[0][0]\n",
    "    empty_result = test[1][1]\n",
    "    egg_result = test[2][2]\n",
    "    child_result = test[3][3]\n",
    "    \n",
    "    accuracy = []\n",
    "    \n",
    "    res = (test[0][0]+test[1][1]+test[2][2]+test[3][3])\n",
    "    gt = (bird_GT+empty_GT+egg_GT+child_GT)\n",
    "\n",
    "    accuracy.append(np.multiply(float(res)/gt,100))\n",
    "    accuracy.append(np.multiply(float(bird_result)/bird_GT,100))\n",
    "    accuracy.append(np.multiply(float(empty_result)/empty_GT,100))\n",
    "    accuracy.append(np.multiply(float(egg_result)/egg_GT,100))\n",
    "    accuracy.append(np.multiply(float(child_result)/child_GT,100))\n",
    "\n",
    "    a = float(compression)\n",
    "    accuracy.append(a*100)\n",
    "\n",
    "    print accuracy\n",
    "    return accuracy"
   ]
  },
  {
   "cell_type": "code",
   "execution_count": 112,
   "metadata": {
    "collapsed": false
   },
   "outputs": [
    {
     "name": "stdout",
     "output_type": "stream",
     "text": [
      "1\n",
      "[82.961552787319462, 98.164970930232556, 89.088397790055254, 65.303661477746118, 77.098646034816241, 100.0]\n",
      "0.5625\n",
      "[79.489301825104491, 98.800872093023244, 88.466850828729278, 56.424029818022362, 73.617021276595736, 56.25]\n",
      "0.49\n",
      "[80.26321234945992, 98.737281976744185, 88.052486187845304, 58.649418987064237, 73.500967117988395, 49.0]\n",
      "0.4225\n",
      "[77.689028680213539, 98.619186046511629, 88.466850828729278, 51.918438938829205, 73.462282398452615, 42.25]\n",
      "0.36\n",
      "[81.037122873815335, 98.446584302325576, 87.707182320441987, 61.148870861653151, 73.34622823984526, 36.0]\n",
      "0.3025\n",
      "[76.641973264909154, 98.864462209302332, 88.53591160220995, 50.263100197325151, 68.433268858800773, 30.25]\n",
      "0.25\n",
      "[70.798328022182673, 99.209665697674424, 89.295580110497241, 36.011839508879632, 62.205029013539651, 25.0]\n",
      "0.625\n",
      "[87.989901916152789, 98.110465116279073, 91.229281767955811, 78.294233720675294, 77.292069632495171, 62.5]\n",
      "0.3515625\n",
      "[85.270868683524398, 99.091569767441854, 89.502762430939228, 71.771541328655999, 71.682785299806568, 35.15625]\n",
      "0.30625\n",
      "[85.088772089558418, 99.082485465116278, 89.364640883977899, 71.28919096689323, 71.798839458413923, 30.625000000000004]\n",
      "0.2640625\n",
      "[85.349501303646065, 99.064316860465112, 89.088397790055254, 72.155229116421836, 71.411992263056092, 26.406249999999996]\n",
      "0.225\n",
      "[86.39655671895045, 98.918968023255815, 88.328729281767963, 74.928743696557774, 72.456479690522244, 22.5]\n",
      "0.1890625\n",
      "[79.327898025907388, 99.309593023255815, 89.295580110497241, 57.827230870423151, 64.526112185686657, 18.90625]\n",
      "0.15625\n",
      "[68.50556636179283, 99.436773255813947, 90.193370165745861, 31.363736022802019, 55.705996131528046, 15.625]\n",
      "0.5\n",
      "[93.059636634523855, 98.273982558139537, 90.469613259668506, 91.186143389607537, 78.916827852998068, 50.0]\n",
      "0.28125\n",
      "[90.06745851094648, 98.555595930232556, 90.331491712707177, 82.986187239640429, 78.762088974854933, 28.125]\n",
      "0.245\n",
      "[89.525307288002324, 98.501090116279073, 90.469613259668506, 81.517211137908347, 79.032882011605423, 24.5]\n",
      "0.21125\n",
      "[87.894715060216029, 98.455668604651152, 90.538674033149164, 77.187020390265289, 79.226305609284324, 21.125]\n",
      "0.18\n",
      "[90.038488598270078, 98.174055232558146, 89.571823204419886, 83.051962288971708, 80.309477756286256, 18.0]\n",
      "0.15125\n",
      "[83.880312875056902, 98.201308139534888, 90.400552486187848, 66.553387415040561, 80.386847195357831, 15.125]\n",
      "0.125\n",
      "[74.125729421015606, 98.101380813953483, 90.676795580110493, 40.0460425345319, 83.0174081237911, 12.5]\n",
      "0.375\n",
      "[90.572362703306709, 97.801598837209298, 87.154696132596683, 86.680552510414387, 75.435203094777563, 37.5]\n",
      "0.2109375\n",
      "[89.889500475934284, 98.628270348837205, 83.770718232044189, 88.79631659723745, 59.961315280464213, 21.09375]\n",
      "0.18375\n",
      "[90.005380126639906, 98.473837209302332, 82.596685082872924, 89.530804648103484, 59.767891682785304, 18.375]\n",
      "0.1584375\n",
      "[90.497868642138812, 98.373909883720927, 81.767955801104975, 91.383468537601402, 58.723404255319146, 15.84375]\n",
      "0.135\n",
      "[90.506145760046351, 98.046875, 81.353591160221001, 91.997368998026758, 58.259187620889755, 13.5]\n",
      "0.1134375\n",
      "[88.912800562844012, 98.219476744186053, 80.041436464088406, 89.585617189212897, 51.876208897485498, 11.34375]\n",
      "0.09375\n",
      "[84.542482307660478, 98.855377906976756, 77.831491712707177, 79.774172330629241, 44.177949709864606, 9.375]\n"
     ]
    }
   ],
   "source": [
    "test_256_200_accuracy = accuracy(test_256_200, 256, 200)\n",
    "test_256_150_accuracy = accuracy(test_256_150, 256, 150)\n",
    "test_256_140_accuracy = accuracy(test_256_140, 256, 140)\n",
    "test_256_130_accuracy = accuracy(test_256_130, 256, 130)\n",
    "test_256_120_accuracy = accuracy(test_256_120, 256, 120)\n",
    "test_256_110_accuracy = accuracy(test_256_110, 256, 110)\n",
    "test_256_100_accuracy = accuracy(test_256_100, 256, 100)\n",
    "\n",
    "test_32_200_accuracy = accuracy(test_32_200, 32, 200)\n",
    "test_32_150_accuracy = accuracy(test_32_150, 32, 150)\n",
    "test_32_140_accuracy = accuracy(test_32_140, 32, 140)\n",
    "test_32_130_accuracy = accuracy(test_32_130, 32, 130)\n",
    "test_32_120_accuracy = accuracy(test_32_120, 32, 120)\n",
    "test_32_110_accuracy = accuracy(test_32_110, 32, 110)\n",
    "test_32_100_accuracy = accuracy(test_32_100, 32, 100)\n",
    "\n",
    "test_16_200_accuracy = accuracy(test_16_200, 16, 200)\n",
    "test_16_150_accuracy = accuracy(test_16_150, 16, 150)\n",
    "test_16_140_accuracy = accuracy(test_16_140, 16, 140)\n",
    "test_16_130_accuracy = accuracy(test_16_130, 16, 130)\n",
    "test_16_120_accuracy = accuracy(test_16_120, 16, 120)\n",
    "test_16_110_accuracy = accuracy(test_16_110, 16, 110)\n",
    "test_16_100_accuracy = accuracy(test_16_100, 16, 100)\n",
    "\n",
    "test_8_200_accuracy = accuracy(test_8_200, 8, 200)\n",
    "test_8_150_accuracy = accuracy(test_8_150, 8, 150)\n",
    "test_8_140_accuracy = accuracy(test_8_140, 8, 140)\n",
    "test_8_130_accuracy = accuracy(test_8_130, 8, 130)\n",
    "test_8_120_accuracy = accuracy(test_8_120, 8, 120)\n",
    "test_8_110_accuracy = accuracy(test_8_110, 8, 110)\n",
    "test_8_100_accuracy = accuracy(test_8_100, 8, 100)"
   ]
  },
  {
   "cell_type": "code",
   "execution_count": 113,
   "metadata": {
    "collapsed": false
   },
   "outputs": [
    {
     "data": {
      "image/png": "[encoded data removed]",
      "text/plain": [
       "<matplotlib.figure.Figure at 0x7f42d6c04310>"
      ]
     },
     "metadata": {},
     "output_type": "display_data"
    }
   ],
   "source": [
    "n_groups = 2\n",
    "accuracys = [test_256_200_accuracy[0],test_256_150_accuracy[0],test_256_140_accuracy[0],\n",
    "            test_256_130_accuracy[0],test_256_120_accuracy[0],test_256_110_accuracy[0],test_256_100_accuracy[0]]\n",
    "trans = [test_256_200_accuracy[5],test_256_150_accuracy[5],test_256_140_accuracy[5],\n",
    "         test_256_130_accuracy[5],test_256_120_accuracy[5],test_256_110_accuracy[5],test_256_100_accuracy[5]]\n",
    "N = 7\n",
    "\n",
    "ind = np.arange(N)  # the x locations for the groups\n",
    "width = 0.35       # the width of the bars\n",
    "\n",
    "fig, ax = plt.subplots()\n",
    "rects1 = ax.bar(ind, accuracys, width, color='r')\n",
    "rects2 = ax.bar(ind + width, trans, width, color='y')\n",
    "\n",
    "# add some text for labels, title and axes ticks\n",
    "ax.set_ylabel('Accuracy / Transmission Ratio (%)')\n",
    "ax.set_xlabel('Image Size')\n",
    "ax.set_title('Accuracy and Transmission Ratio before Color Quantization')\n",
    "ax.set_xticks(ind + width / 2)\n",
    "ax.set_xticklabels(('200*200', '150*150', '140*140', '130*130', '120*120', '110*110', '100*100'))\n",
    "plt.ylim(0,100)\n",
    "ax.legend((rects1[0], rects2[0]), ('Accuracy', 'Transmission Ratio'))\n",
    "\n",
    "plt.show()\n",
    "fig.savefig(\"Accuracy_256.png\")"
   ]
  },
  {
   "cell_type": "code",
   "execution_count": 114,
   "metadata": {
    "collapsed": false
   },
   "outputs": [
    {
     "data": {
      "image/png": "[encoded data removed]",
      "text/plain": [
       "<matplotlib.figure.Figure at 0x7f42d694ca90>"
      ]
     },
     "metadata": {},
     "output_type": "display_data"
    }
   ],
   "source": [
    "n_groups = 2\n",
    "\n",
    "accuracy = [test_32_200_accuracy[0],test_32_150_accuracy[0],test_32_140_accuracy[0],\n",
    "            test_32_130_accuracy[0],test_32_120_accuracy[0],test_32_110_accuracy[0],test_32_100_accuracy[0]]\n",
    "trans = [test_32_200_accuracy[5],test_32_150_accuracy[5],test_32_140_accuracy[5],\n",
    "         test_32_130_accuracy[5],test_32_120_accuracy[5],test_32_110_accuracy[5],test_32_100_accuracy[5]]\n",
    "N = 7\n",
    "\n",
    "ind = np.arange(N)  # the x locations for the groups\n",
    "width = 0.35       # the width of the bars\n",
    "\n",
    "fig, ax = plt.subplots()\n",
    "rects1 = ax.bar(ind, accuracy, width, color='r')\n",
    "rects2 = ax.bar(ind + width, trans, width, color='y')\n",
    "\n",
    "# add some text for labels, title and axes ticks\n",
    "ax.set_ylabel('Accuracy / Transmission Ratio (%)')\n",
    "ax.set_xlabel('Image Size')\n",
    "ax.set_title('Accuracy and Transmission Ratio after Color Quantization with 32 colors')\n",
    "ax.set_xticks(ind + width / 2)\n",
    "ax.set_xticklabels(('200*200', '150*150', '140*140', '130*130', '120*120', '110*110', '100*100'))\n",
    "plt.ylim(0,100)\n",
    "\n",
    "\n",
    "ax.legend((rects1[0], rects2[0]), ('Accuracy', 'Transmission Ratio'))\n",
    "\n",
    "plt.show()\n",
    "fig.savefig(\"Accuracy_32.png\")"
   ]
  },
  {
   "cell_type": "code",
   "execution_count": 116,
   "metadata": {
    "collapsed": false
   },
   "outputs": [
    {
     "data": {
      "image/png": "[encoded data removed]",
      "text/plain": [
       "<matplotlib.figure.Figure at 0x7f42d6d23d50>"
      ]
     },
     "metadata": {},
     "output_type": "display_data"
    }
   ],
   "source": [
    "n_groups = 2\n",
    "\n",
    "accuracy = [test_16_200_accuracy[0],test_16_150_accuracy[0],test_16_140_accuracy[0],\n",
    "            test_16_130_accuracy[0],test_16_120_accuracy[0],test_16_110_accuracy[0],test_16_100_accuracy[0]]\n",
    "trans = [test_16_200_accuracy[5],test_16_150_accuracy[5],test_16_140_accuracy[5],\n",
    "         test_16_130_accuracy[5],test_16_120_accuracy[5],test_16_110_accuracy[5],test_16_100_accuracy[5]]\n",
    "N = 7\n",
    "\n",
    "ind = np.arange(N)  # the x locations for the groups\n",
    "width = 0.35       # the width of the bars\n",
    "\n",
    "fig, ax = plt.subplots()\n",
    "rects1 = ax.bar(ind, accuracy, width, color='r')\n",
    "rects2 = ax.bar(ind + width, trans, width, color='y')\n",
    "\n",
    "# add some text for labels, title and axes ticks\n",
    "ax.set_ylabel('Accuracy / Transmission Ratio (%)')\n",
    "ax.set_xlabel('Image Size')\n",
    "ax.set_title('Accuracy and Transmission Ratio after Color Quantization with 16 colors')\n",
    "ax.set_xticks(ind + width / 2)\n",
    "ax.set_xticklabels(('200*200', '150*150', '140*140', '130*130', '120*120', '110*110', '100*100'))\n",
    "plt.ylim(0,100)\n",
    "\n",
    "\n",
    "ax.legend((rects1[0], rects2[0]), ('Accuracy', 'Transmission Ratio'))\n",
    "\n",
    "plt.show()\n",
    "fig.savefig(\"Accuracy_16.png\")"
   ]
  },
  {
   "cell_type": "code",
   "execution_count": null,
   "metadata": {
    "collapsed": true
   },
   "outputs": [],
   "source": []
  }
 ],
 "metadata": {
  "kernelspec": {
   "display_name": "Python 2",
   "language": "python",
   "name": "python2"
  },
  "language_info": {
   "codemirror_mode": {
    "name": "ipython",
    "version": 2
   },
   "file_extension": ".py",
   "mimetype": "text/x-python",
   "name": "python",
   "nbconvert_exporter": "python",
   "pygments_lexer": "ipython2",
   "version": "2.7.12"
  }
 },
 "nbformat": 4,
 "nbformat_minor": 2
}
