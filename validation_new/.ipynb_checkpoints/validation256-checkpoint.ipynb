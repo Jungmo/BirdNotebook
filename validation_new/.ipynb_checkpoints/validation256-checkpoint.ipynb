{
 "cells": [
  {
   "cell_type": "code",
   "execution_count": null,
   "metadata": {
    "collapsed": false,
    "deletable": true,
    "editable": true
   },
   "outputs": [],
   "source": [
    "import numpy as np\n",
    "import os\n",
    "import sys\n",
    "import argparse\n",
    "import glob\n",
    "import time\n",
    "sys.path.append(\"/home/jungmo/apps/caffe/python\") # caffe path\n",
    "\n",
    "import caffe\n",
    "from shutil import copyfile\n",
    "\n",
    "#GPUID = 1\n",
    "BIRD_ROOT = \"/home/jungmo/Documents/bird/caffe/\"\n",
    "\n",
    "NPY_PATH = os.path.join(BIRD_ROOT,\"model\",\"new_256_200\", \"db\",\"mean.npy\")\n",
    "CAFFE_BIN = \"/home/jungmo/apps/caffe/build/tools/\"\n",
    "network = 'googLeNet'\n",
    "IMG_SIZE = 224\n",
    "\n",
    "def binaryproto_to_npy():\n",
    "    blob = caffe.proto.caffe_pb2.BlobProto()\n",
    "    data = open( BINARYPROTO_PATH , 'rb' ).read()\n",
    "    blob.ParseFromString(data)\n",
    "    arr = np.array( caffe.io.blobproto_to_array(blob) )\n",
    "    out = arr[0]\n",
    "    np.save( NPY_PATH, out )\n",
    "\n",
    "def evaluate_model(dst):\n",
    "        input_file = os.path.join(TEST)\n",
    "        output_file = os.path.join(BIRD_ROOT, \"db/output.npy\")\n",
    "        model_def = os.path.join(BIRD_ROOT, \"model_prototxt/\"+network+\"/deploy.prototxt\")\n",
    "        pretrained_model = os.path.join(BIRD_ROOT, \"model/new_256_200/googlenet_iter_100000.caffemodel\")\n",
    "        gpu = True\n",
    "        images_dim='224,224'\n",
    "        mean_file = NPY_PATH\n",
    "        ext='bmp'\n",
    "        channel_swap='2,1,0'\n",
    "        raw_scale = 255.0\n",
    "        center_only=True\n",
    "        input_scale = None\n",
    "        image_dims = [int(s) for s in images_dim.split(',')]\n",
    "\n",
    "        mean, channel_swap = None, None\n",
    "        if mean_file:\n",
    "            mean = np.load(mean_file)\n",
    "        if channel_swap:\n",
    "            channel_swap=[int(s) for s in args.channel_swap.split(',')]\n",
    "        caffe.set_mode_gpu()\n",
    "        #caffe.set_device(GPUID)\n",
    "        # Make classifier.\n",
    "        classifier = caffe.Classifier(model_def, pretrained_model,\n",
    "                image_dims=image_dims, mean=mean,\n",
    "                input_scale=input_scale, raw_scale=raw_scale,\n",
    "                channel_swap=channel_swap)\n",
    "\n",
    "        # Load numpy array (.npy), directory glob (*.jpg), or image file.\n",
    "        imgs_list = tuple(open(input_file,'r'))\n",
    "        print(\"Loading file: %s\" % input_file)\n",
    "        inputs =[caffe.io.load_image(im_f)\n",
    "                     for im_f in glob.glob(input_file + '/*.' + ext)]\n",
    "\n",
    "        print(\"Classifying %d inputs.\" % len(imgs_list))\n",
    "\n",
    "        BATCH_SIZE = 100\n",
    "\n",
    "        # Classify.\n",
    "        confusion_matrix = np.zeros((4,4),dtype=np.int32)\n",
    "        accuracy = 0.0\n",
    "        start = time.time()\n",
    "        for i in range(0, len(imgs_list), BATCH_SIZE):\n",
    "            if i > 0 and i % (BATCH_SIZE * 25) == 0:\n",
    "                print(\"Finished %d imgs.\" % (i))\n",
    "                cur_accuracy = accuracy / i * 100\n",
    "                print(\"Accuracy: %.2f \" % cur_accuracy)\n",
    "                print(\"Confusion Matrix:\")\n",
    "                print confusion_matrix\n",
    "            imgs = [imgs_list[i + j].split(' ')[0] for j in range(min(BATCH_SIZE,len(imgs_list)-i))]\n",
    "            gts = [int(imgs_list[i + j].split(' ')[1]) for j in range(min(BATCH_SIZE,len(imgs_list)-i))]\n",
    "            inputs = [caffe.io.load_image(path) for path in imgs]\n",
    "            predictions = classifier.predict(inputs, not center_only)\n",
    "            for j in range(len(imgs)):\n",
    "                probs = predictions[j]\n",
    "                pred = np.argmax(probs)\n",
    "                confusion_matrix[gts[j]][pred] += 1\n",
    "                if pred == gts[j]:\n",
    "                    accuracy += 1.0\n",
    "\n",
    "        accuracy = accuracy / len(imgs_list) * 100\n",
    "\n",
    "        print(\"Done in %.2f s.\" % (time.time() - start))\n",
    "        # Save\n",
    "        print(\"Accuracy: %.2f \" % accuracy)\n",
    "        print(\"Confusion Matrix:\")\n",
    "        print confusion_matrix\n",
    "        np.save(dst, confusion_matrix)"
   ]
  },
  {
   "cell_type": "code",
   "execution_count": null,
   "metadata": {
    "collapsed": false,
    "deletable": true,
    "editable": true
   },
   "outputs": [
    {
     "name": "stdout",
     "output_type": "stream",
     "text": [
      "Evaluate model\n",
      "Loading file: /home/jungmo/Documents/bird/caffe/bird_no_adole/test//test_256_200.txt\n",
      "Classifying 21586 inputs.\n"
     ]
    }
   ],
   "source": [
    "\n",
    "'''    \n",
    "print \"Make DB : Training set\"\n",
    "os.system(os.path.join(CAFFE_BIN,\"convert_imageset.bin\")+\" -backend=\\\"lmdb\\\" -shuffle=true -resize_height \"+str(IMG_SIZE)+\" -resize_width \"+str(IMG_SIZE)+ \" / \" + TRAIN + \" \" + BIRD_ROOT + \"db/train_imageData_lmDB\")\n",
    "\n",
    "print \"Make DB : Test set\"\n",
    "os.system(os.path.join(CAFFE_BIN,\"convert_imageset.bin\")+\" -backend=\\\"lmdb\\\" -shuffle=true -resize_height \"+str(IMG_SIZE)+\" -resize_width \"+str(IMG_SIZE) + \" / \" + TEST + \" \" + BIRD_ROOT + \"db/val_imageData_lmDB\")\n",
    "\n",
    "print \"Make image mean file\"\n",
    "os.system(os.path.join(CAFFE_BIN,\"compute_image_mean.bin\")+\n",
    "               \" -backend=lmdb \"+ BIRD_ROOT + \"db/train_imageData_lmDB \" + BIRD_ROOT+ \"db/mean.binaryproto\")\n",
    "print \"Image mean file .binaryproto to .npy\"\n",
    "binaryproto_to_npy()   \n",
    "\n",
    "print \"Training model\"\n",
    "os.system(os.path.join(CAFFE_BIN,\"caffe.bin\")+\" train \"\n",
    "               \"-solver=\"+BIRD_ROOT+\"model/\"+network+\"/solver.prototxt \"+\" -weights=\"+BIRD_ROOT+\"model/\"+network+\"/bvlc_googlenet.caffemodel \"+ \"-gpu all\")\n",
    "'''\n",
    "print \"Evaluate model\"\n",
    "TEST = \"/home/jungmo/Documents/bird/caffe/bird_no_adole/test//test_256_200.txt\"\n",
    "evaluate_model(\"test_256_200.npy\")\n"
   ]
  },
  {
   "cell_type": "code",
   "execution_count": null,
   "metadata": {
    "collapsed": false,
    "deletable": true,
    "editable": true
   },
   "outputs": [],
   "source": [
    "TEST = \"/home/jungmo/Documents/bird/caffe/bird_no_adole/test//test_256_150.txt\"\n",
    "evaluate_model(\"test_256_150.npy\")"
   ]
  },
  {
   "cell_type": "code",
   "execution_count": null,
   "metadata": {
    "collapsed": false,
    "deletable": true,
    "editable": true
   },
   "outputs": [],
   "source": [
    "TEST = \"/home/jungmo/Documents/bird/caffe/bird_no_adole/test//test_256_140.txt\"\n",
    "evaluate_model(\"test_256_140.npy\")"
   ]
  },
  {
   "cell_type": "code",
   "execution_count": null,
   "metadata": {
    "collapsed": false,
    "deletable": true,
    "editable": true
   },
   "outputs": [],
   "source": [
    "TEST = \"/home/jungmo/Documents/bird/caffe/bird_no_adole/test//test_256_130.txt\"\n",
    "evaluate_model(\"test_256_130.npy\")"
   ]
  },
  {
   "cell_type": "code",
   "execution_count": null,
   "metadata": {
    "collapsed": false,
    "deletable": true,
    "editable": true
   },
   "outputs": [],
   "source": [
    "TEST = \"/home/jungmo/Documents/bird/caffe/bird_no_adole/test//test_256_120.txt\"\n",
    "evaluate_model(\"test_256_120.npy\")"
   ]
  },
  {
   "cell_type": "code",
   "execution_count": null,
   "metadata": {
    "collapsed": false,
    "deletable": true,
    "editable": true
   },
   "outputs": [],
   "source": [
    "TEST = \"/home/jungmo/Documents/bird/caffe/bird_no_adole/test//test_256_110.txt\"\n",
    "evaluate_model(\"test_256_110.npy\")"
   ]
  },
  {
   "cell_type": "code",
   "execution_count": null,
   "metadata": {
    "collapsed": false,
    "deletable": true,
    "editable": true
   },
   "outputs": [],
   "source": [
    "TEST = \"/home/jungmo/Documents/bird/caffe/bird_no_adole/test//test_256_100.txt\"\n",
    "evaluate_model(\"test_256_100.npy\")"
   ]
  },
  {
   "cell_type": "code",
   "execution_count": null,
   "metadata": {
    "collapsed": true,
    "deletable": true,
    "editable": true
   },
   "outputs": [],
   "source": []
  },
  {
   "cell_type": "code",
   "execution_count": null,
   "metadata": {
    "collapsed": true,
    "deletable": true,
    "editable": true
   },
   "outputs": [],
   "source": []
  },
  {
   "cell_type": "code",
   "execution_count": null,
   "metadata": {
    "collapsed": true
   },
   "outputs": [],
   "source": []
  }
 ],
 "metadata": {
  "kernelspec": {
   "display_name": "Python 2",
   "language": "python",
   "name": "python2"
  },
  "language_info": {
   "codemirror_mode": {
    "name": "ipython",
    "version": 2
   },
   "file_extension": ".py",
   "mimetype": "text/x-python",
   "name": "python",
   "nbconvert_exporter": "python",
   "pygments_lexer": "ipython2",
   "version": "2.7.12"
  }
 },
 "nbformat": 4,
 "nbformat_minor": 0
}
