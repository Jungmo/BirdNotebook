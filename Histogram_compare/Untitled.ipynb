{
 "cells": [
  {
   "cell_type": "code",
   "execution_count": 6,
   "metadata": {
    "collapsed": false,
    "deletable": true,
    "editable": true
   },
   "outputs": [],
   "source": [
    "import cv2\n",
    "import os\n",
    "import numpy as np\n",
    "from skimage.measure import compare_ssim as ssim\n",
    "import math\n",
    "import matplotlib.pyplot as plt"
   ]
  },
  {
   "cell_type": "code",
   "execution_count": 7,
   "metadata": {
    "collapsed": false,
    "deletable": true,
    "editable": true
   },
   "outputs": [],
   "source": [
    "IMG_PATH = \"/home/jungmo/Documents/bird/bird_image/temp/train/\"\n",
    "DIRS = [\"bird\", \"egg\", \"child\", \"empty\"]"
   ]
  },
  {
   "cell_type": "code",
   "execution_count": 17,
   "metadata": {
    "collapsed": false
   },
   "outputs": [],
   "source": [
    "def each_class_histogram(mote):\n",
    "    histogram = []\n",
    "    for d in DIRS:\n",
    "        hist_of_current_d = []\n",
    "        path_d = os.path.join(IMG_PATH, d)\n",
    "        l = os.listdir(path_d)\n",
    "        for image_name in l:\n",
    "            if str(mote)+\"_\" in image_name:\n",
    "                #print image_name\n",
    "                image = cv2.imread(os.path.join(path_d, image_name), 0)\n",
    "                #print image_name\n",
    "                hist = cv2.calcHist([image], [0], None, [256], [0,256])\n",
    "                k=hist.reshape((hist.shape[0]), order='F')\n",
    "                hist_of_current_d.append(k)\n",
    "        #print np.shape(hist_of_current_d)\n",
    "        histogram.append(hist_of_current_d)\n",
    "    \n",
    "    return histogram\n"
   ]
  },
  {
   "cell_type": "code",
   "execution_count": 18,
   "metadata": {
    "collapsed": false
   },
   "outputs": [],
   "source": [
    "hist = each_class_histogram(506)"
   ]
  },
  {
   "cell_type": "code",
   "execution_count": 19,
   "metadata": {
    "collapsed": false
   },
   "outputs": [],
   "source": [
    "def cross_hist(mote):\n",
    "    histogram = each_class_histogram(mote)\n",
    "    corr = []\n",
    "    mean_list = []\n",
    "    corr_np= np.empty([4,4])\n",
    "    for each_class_hist in histogram:\n",
    "        mean_of_each_class = np.mean(each_class_hist, axis=0)\n",
    "        mean_list.append(mean_of_each_class)\n",
    "        print np.shape(mean_of_each_class)\n",
    "    for i in range(0,4):\n",
    "        for j in range(i,4):\n",
    "            emp_chi = cv2.compareHist(mean_list[i], mean_list[j], method=cv2.cv.CV_COMP_CORREL)\n",
    "            corr.append(emp_chi)\n",
    "            corr_np[i][j] = emp_chi\n",
    "    return corr_np"
   ]
  },
  {
   "cell_type": "markdown",
   "metadata": {},
   "source": [
    "0 : bird\n",
    "1 : egg\n",
    "2 : child\n",
    "3 : empty"
   ]
  },
  {
   "cell_type": "code",
   "execution_count": 27,
   "metadata": {
    "collapsed": false
   },
   "outputs": [],
   "source": [
    "def corr_cross_hist():\n",
    "    be = []\n",
    "    bc = []\n",
    "    bem = []\n",
    "    ec = []\n",
    "    eem = []\n",
    "    cem = []\n",
    "    MOTE = [506, 703, 505, 1702, 606, 901,1702,503]\n",
    "    for mote in MOTE:\n",
    "        corr_result = cross_hist(mote)\n",
    "        be.append(corr_result[0][1])\n",
    "        bc.append(corr_result[0][2])\n",
    "        bem.append(corr_result[0][3])\n",
    "        ec.append(corr_result[1][2])\n",
    "        eem.append(corr_result[1][3])\n",
    "        cem.append(corr_result[2][3])\n",
    "    #print be, bc, bem, ec, eem, cem\n",
    "    means = [np.mean(be), np.mean(bc), np.mean(bem), np.mean(ec), np.mean(eem), np.mean(cem)]\n",
    "    stds = [np.std(be), np.std(bc), np.std(bem), np.std(ec), np.std(eem), np.std(cem)]\n",
    "    \n",
    "    return means, stds"
   ]
  },
  {
   "cell_type": "code",
   "execution_count": 28,
   "metadata": {
    "collapsed": false
   },
   "outputs": [
    {
     "name": "stdout",
     "output_type": "stream",
     "text": [
      "(256,)\n",
      "(256,)\n",
      "(256,)\n",
      "(256,)\n",
      "(256,)\n",
      "(256,)\n",
      "(256,)\n",
      "(256,)\n",
      "(256,)\n",
      "(256,)\n",
      "(256,)\n",
      "(256,)\n",
      "(256,)\n",
      "(256,)\n",
      "(256,)\n",
      "(256,)\n",
      "(256,)\n",
      "(256,)\n",
      "(256,)\n",
      "(256,)\n",
      "(256,)\n",
      "(256,)\n",
      "(256,)\n",
      "(256,)\n",
      "(256,)\n",
      "(256,)\n",
      "(256,)\n",
      "(256,)\n",
      "(256,)\n",
      "(256,)\n",
      "(256,)\n",
      "(256,)\n",
      "[0.9352658967115719, 0.97813009690977348, 0.94407063355452203, 0.9772852709600931, 0.99206069480140158, 0.97819307068574091] [0.026251591777869347, 0.01514535355177267, 0.020157279253651725, 0.0096487457787767118, 0.0069167189888326057, 0.011866509314421203]\n"
     ]
    }
   ],
   "source": [
    "means, stds = corr_cross_hist()\n",
    "print means, stds"
   ]
  },
  {
   "cell_type": "code",
   "execution_count": 74,
   "metadata": {
    "collapsed": false
   },
   "outputs": [],
   "source": [
    "N = 6\n",
    "ind = np.arange(N)\n",
    "width = 0.35\n",
    "label =['Bird-Egg', 'Bird-Child', 'Bird-Empty', 'Egg-Child', 'Egg-Empty','Child-Empty']\n",
    "\n",
    "\n",
    "rects1 = plt.bar(ind, means, width, color='r', yerr=stds, label = label)\n",
    "plt.ylabel('Correlation Coefficient')\n",
    "plt.title('Correlation Coefficient of each classes')\n",
    "\n",
    "xticks_pos = [0.65*patch.get_width() + patch.get_xy()[0] for patch in rects1]\n",
    "plt.xticks(xticks_pos, label,  ha='right', rotation=45)\n",
    "\n",
    "#plt.margins(0.2)\n",
    "plt.subplots_adjust(bottom=0.15)\n",
    "\n"
   ]
  },
  {
   "cell_type": "code",
   "execution_count": 75,
   "metadata": {
    "collapsed": false
   },
   "outputs": [
    {
     "data": {
      "image/png": "[encoded data removed]",
      "text/plain": [
       "<matplotlib.figure.Figure at 0x7f457d704b90>"
      ]
     },
     "metadata": {},
     "output_type": "display_data"
    }
   ],
   "source": [
    "plt.show()"
   ]
  },
  {
   "cell_type": "code",
   "execution_count": null,
   "metadata": {
    "collapsed": true
   },
   "outputs": [],
   "source": []
  }
 ],
 "metadata": {
  "kernelspec": {
   "display_name": "Python 2",
   "language": "python",
   "name": "python2"
  },
  "language_info": {
   "codemirror_mode": {
    "name": "ipython",
    "version": 2
   },
   "file_extension": ".py",
   "mimetype": "text/x-python",
   "name": "python",
   "nbconvert_exporter": "python",
   "pygments_lexer": "ipython2",
   "version": "2.7.12"
  }
 },
 "nbformat": 4,
 "nbformat_minor": 2
}
